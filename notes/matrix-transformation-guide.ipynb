{
 "cells": [
  {
   "cell_type": "code",
   "execution_count": 1,
   "id": "742f173f",
   "metadata": {},
   "outputs": [],
   "source": [
    "import numpy as np"
   ]
  },
  {
   "cell_type": "markdown",
   "id": "513e4a76",
   "metadata": {},
   "source": [
    "## Creating Matrices"
   ]
  },
  {
   "cell_type": "code",
   "execution_count": 5,
   "id": "77ae5d8f",
   "metadata": {},
   "outputs": [
    {
     "name": "stdout",
     "output_type": "stream",
     "text": [
      "2D MATRIX:\n",
      "(3, 3)\n",
      "2\n",
      "\n",
      "3D MATRIX:\n",
      "(2, 2, 3)\n",
      "3\n"
     ]
    }
   ],
   "source": [
    "two_dim = np.array([\n",
    "    [2, -3, 1],\n",
    "    [2, 0, -1],\n",
    "    [1, 4, 5]\n",
    "])\n",
    "\n",
    "# 2 x 2 x 3\n",
    "three_dim = np.array([\n",
    "    [[1, 2, 3], \n",
    "     [4, 5, 6]],\n",
    "    \n",
    "    [[7, 8, 9], \n",
    "     [10, 11, 12]]\n",
    "])\n",
    "\n",
    "print(\"2D MATRIX:\")\n",
    "print(two_dim.shape)\n",
    "print(two_dim.ndim)\n",
    "print(\"\\n3D MATRIX:\")\n",
    "print(three_dim.shape)\n",
    "print(three_dim.ndim)"
   ]
  },
  {
   "cell_type": "markdown",
   "id": "1111ca1f",
   "metadata": {},
   "source": [
    "## Rendering"
   ]
  },
  {
   "cell_type": "code",
   "execution_count": 12,
   "id": "2268e3c1",
   "metadata": {},
   "outputs": [],
   "source": [
    "my_matrix = np.array([\n",
    "    [[\"WOG\", \"WG\", \"WGR\"], \n",
    "     [\"OG\", \"G\", \"RG\"],\n",
    "     [7, 8, 9]],\n",
    "    \n",
    "    [[10, 11, 12], \n",
    "     [13, 14, 15],\n",
    "     [16, 17, 18]],\n",
    "\n",
    "    [[19, 20, 21], \n",
    "     [22, 23, 24],\n",
    "     [25, 26, 27]],\n",
    "])"
   ]
  },
  {
   "cell_type": "code",
   "execution_count": null,
   "id": "ae343811",
   "metadata": {},
   "outputs": [],
   "source": [
    "index = 0\n",
    "cube = [None] * 27\n",
    "\n",
    "# We have an individual matrix for each cubie\n",
    "for x in [-1, 0, 1]:\n",
    "    for y in [-1, 0, 1]:\n",
    "        for z in [-1, 0, 1]:\n",
    "            # create a new matrix for a cubie\n",
    "            matrix = False\n",
    "            cube[index] = Cubie(matrix, x, y, z)\n",
    "            index += 1"
   ]
  },
  {
   "cell_type": "code",
   "execution_count": null,
   "id": "f4c28c6b",
   "metadata": {},
   "outputs": [],
   "source": [
    "# Go through each cubie and rotate if on correct plane\n"
   ]
  },
  {
   "cell_type": "code",
   "execution_count": 20,
   "id": "1c6f5754",
   "metadata": {},
   "outputs": [
    {
     "name": "stdout",
     "output_type": "stream",
     "text": [
      "[[[ 1  2  3]\n",
      "  [ 4  5  6]\n",
      "  [ 7  8  9]]\n",
      "\n",
      " [[10 11 12]\n",
      "  [13 14 15]\n",
      "  [16 17 18]]\n",
      "\n",
      " [[19 20 21]\n",
      "  [22 23 24]\n",
      "  [25 26 27]]]\n",
      "\n",
      "[[[  1  -3   2]\n",
      "  [  4  -6   5]\n",
      "  [  7  -9   8]]\n",
      "\n",
      " [[ 10 -12  11]\n",
      "  [ 13 -15  14]\n",
      "  [ 16 -18  17]]\n",
      "\n",
      " [[ 19 -21  20]\n",
      "  [ 22 -24  23]\n",
      "  [ 25 -27  26]]]\n",
      "\n",
      "[[[  1.          -3.57813722   0.44377248]\n",
      "  [  4.          -7.60434806   1.78154162]\n",
      "  [  7.         -11.6305589    3.11931076]]\n",
      "\n",
      " [[ 10.         -15.65676974   4.45707991]\n",
      "  [ 13.         -19.68298058   5.79484905]\n",
      "  [ 16.         -23.70919142   7.13261819]]\n",
      "\n",
      " [[ 19.         -27.73540226   8.47038733]\n",
      "  [ 22.         -31.7616131    9.80815648]\n",
      "  [ 25.         -35.78782394  11.14592562]]]\n"
     ]
    }
   ],
   "source": [
    "angle = np.radians(90)\n",
    "\n",
    "R_yz = np.array([\n",
    "    [1, 0,             0],\n",
    "    [0, np.cos(angle), -np.sin(angle)],\n",
    "    [0, np.sin(angle), np.cos(angle)]\n",
    "])\n",
    "\n",
    "def turn_X(angle):\n",
    "    rotation_vec = np.array([\n",
    "        [1, 0,             0],\n",
    "        [0, np.cos(angle), -np.sin(angle)],\n",
    "        [0, np.sin(angle), np.cos(angle)]\n",
    "    ])\n",
    "    \n",
    "    return np.dot(my_matrix, rotation_vec.T)\n",
    "\n",
    "rotated_matrix = np.zeros_like(my_matrix)\n",
    "\n",
    "rotated_matrix_copy = turn_X(90)\n",
    "\n",
    "for x in range(3):\n",
    "    rotated_matrix[x] = np.dot(my_matrix[x], R_yz.T)\n",
    "    \n",
    "print(my_matrix)\n",
    "print()\n",
    "print(rotated_matrix)\n",
    "print()\n",
    "print(rotated_matrix_copy)"
   ]
  },
  {
   "cell_type": "code",
   "execution_count": null,
   "id": "cdfb6511",
   "metadata": {},
   "outputs": [],
   "source": [
    "class Cubie:\n",
    "    def __init__(self, edge_type, colors):\n",
    "        self.edge_type = edge_type\n",
    "        self.colors = colors\n",
    "        \n",
    "class Cube:\n",
    "    def __init__(self):\n",
    "        self.cube = initialize_cube()\n",
    "        \n",
    "    def initialize_cube():\n",
    "        cube = [None] * (3*3*3)\n",
    "        index = 0\n",
    "        for x in [-1, 0, 1]:\n",
    "            for y in [-1, 0, 1]:\n",
    "                for z in [-1, 0, 1]:\n",
    "                    edge_type = None\n",
    "                    \n",
    "                    # Discern center vs edge vs corner\n",
    "                    location = [x, y, z]\n",
    "                    \n",
    "                    if (x == 0 and y == 0) or (x == 0 and z == 0) or (y == 0 and z == 0):\n",
    "                        # i.e. (1 0 0) or (0 1 0)\n",
    "                        edge_type = 'center'\n",
    "                    elif 0 in location:\n",
    "                        # i.e. (1 0 -1) or (0, 1, 1)\n",
    "                        edge_type = 'edge'\n",
    "                    else:\n",
    "                        # anything else is a corner\n",
    "                        edge_type = 'corner'\n",
    "                        \n",
    "                    # x=1 --> Green\n",
    "                    # x=0 --> Red or orange\n",
    "                    # x=\n",
    "                    \n",
    "                    cube[index] = Cubie()\n",
    "                    index += 1"
   ]
  },
  {
   "cell_type": "markdown",
   "id": "4c36dc3e",
   "metadata": {},
   "source": [
    "# Now looking at example"
   ]
  },
  {
   "cell_type": "code",
   "execution_count": 56,
   "id": "346a97aa",
   "metadata": {},
   "outputs": [
    {
     "data": {
      "text/plain": [
       "0     (-1, 1, 1)\n",
       "1    (-1, -1, 1)\n",
       "2    (1, -1, -1)\n",
       "Name: (-1, -1, -1), dtype: object"
      ]
     },
     "metadata": {},
     "output_type": "display_data"
    }
   ],
   "source": [
    "import math\n",
    "import pandas as pd\n",
    "\n",
    "pd.set_option('display.max_colwidth', None)\n",
    "pd.set_option('display.max_columns', None)\n",
    "\n",
    "def rotate_x(x, y, z, degrees):\n",
    "    new_x = x\n",
    "    new_y = round(y*math.cos(math.radians(degrees)) - y*math.sin(math.radians(degrees)))\n",
    "    new_z = round(-z*math.sin(math.radians(degrees)) + z*math.cos(math.radians(degrees)))\n",
    "    \n",
    "    return (new_x, new_y, new_z)\n",
    "\n",
    "def rotate_y(x, y, z, degrees):\n",
    "    new_x = round(x*math.cos(math.radians(degrees)) + z*math.sin(math.radians(degrees)))\n",
    "    new_y = y\n",
    "    new_z = round(-z*math.sin(math.radians(degrees)) + z*math.cos(math.radians(degrees)))\n",
    "    \n",
    "    return (new_x, new_y, new_z)\n",
    "\n",
    "def rotate_z(x, y, z, degrees):\n",
    "    new_x = round(x*math.cos(math.radians(degrees)) - x*math.sin(math.radians(degrees)))\n",
    "    new_y = round(y*math.sin(math.radians(degrees)) + y*math.cos(math.radians(degrees)))\n",
    "    new_z = z\n",
    "    \n",
    "    return (new_x, new_y, new_z)\n",
    "\n",
    "\n",
    "results_dict = {}\n",
    "for _x in [-1, 0, 1]:\n",
    "    for _y in [-1, 0, 1]:\n",
    "        for _z in [-1, 0, 1]:\n",
    "            results_dict[(_x, _y, _z)] = [rotate_x(_x,_y,_z, 90), rotate_y(_x,_y,_z, 90), rotate_z(_x,_y,_z, 90)]\n",
    "\n",
    "df = pd.DataFrame.from_dict(results_dict,orient='index').transpose()\n",
    "display(df[(-1, -1, -1)])"
   ]
  },
  {
   "cell_type": "code",
   "execution_count": null,
   "id": "73e7b997",
   "metadata": {},
   "outputs": [],
   "source": []
  }
 ],
 "metadata": {
  "kernelspec": {
   "display_name": "Python 3 (ipykernel)",
   "language": "python",
   "name": "python3"
  },
  "language_info": {
   "codemirror_mode": {
    "name": "ipython",
    "version": 3
   },
   "file_extension": ".py",
   "mimetype": "text/x-python",
   "name": "python",
   "nbconvert_exporter": "python",
   "pygments_lexer": "ipython3",
   "version": "3.9.13"
  }
 },
 "nbformat": 4,
 "nbformat_minor": 5
}
